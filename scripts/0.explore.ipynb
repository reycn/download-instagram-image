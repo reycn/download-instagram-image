{
 "cells": [
  {
   "cell_type": "code",
   "execution_count": 1,
   "metadata": {},
   "outputs": [
    {
     "name": "stdout",
     "output_type": "stream",
     "text": [
      "INFO: Pandarallel will run on 32 workers.\n",
      "INFO: Pandarallel will use Memory file system to transfer data between the main process and workers.\n"
     ]
    }
   ],
   "source": [
    "import logging\n",
    "import os\n",
    "from random import choice\n",
    "\n",
    "import pandas as pd\n",
    "import polars as pl\n",
    "import requests as req\n",
    "from pandarallel import pandarallel\n",
    "from rich import print as rp\n",
    "\n",
    "# Configure logging\n",
    "logging.basicConfig(level=logging.INFO)\n",
    "pandarallel.initialize(progress_bar=True, nb_workers=32)"
   ]
  },
  {
   "cell_type": "code",
   "execution_count": 2,
   "metadata": {},
   "outputs": [
    {
     "data": {
      "text/html": [
       "<pre style=\"white-space:pre;overflow-x:auto;line-height:normal;font-family:Menlo,'DejaVu Sans Mono',consolas,'Courier New',monospace\"><span style=\"color: #808000; text-decoration-color: #808000; font-weight: bold\">Skipped: C1SvpQRS99V.</span>\n",
       "</pre>\n"
      ],
      "text/plain": [
       "\u001b[1;33mSkipped: C1SvpQRS99V.\u001b[0m\n"
      ]
     },
     "metadata": {},
     "output_type": "display_data"
    }
   ],
   "source": [
    "# @timeit(log_level=logging.INFO)\n",
    "\n",
    "\n",
    "def download_image(\n",
    "    post_id: str = \"C1SvpQRS99V\",\n",
    "    path_download: str = \"../data/images/\",\n",
    "    proxy_servers: list = [\n",
    "        \"100.80.84.42:9091\",\n",
    "        \"100.70.13.68:9091\",\n",
    "        \"100.122.187.59:9091\",\n",
    "        \"100.66.160.80:9091\",\n",
    "    ],\n",
    ") -> None:\n",
    "    try:\n",
    "        url = f\"https://www.instagram.com/p/{post_id}/media/?size=l\"\n",
    "        # Create folder if not exist\n",
    "        if not os.path.exists(path_download):\n",
    "            os.makedirs(path_download)\n",
    "        # Skip if file exist\n",
    "\n",
    "        path_file = f\"{path_download}{post_id}.jpg\"\n",
    "        if not os.path.exists(path_file):\n",
    "            # Define proxy\n",
    "            proxy_servers = proxy_servers\n",
    "            proxy_server = choice(proxy_servers)\n",
    "            proxies = {\n",
    "                \"http\": f\"socks5://{proxy_server}\",\n",
    "                \"https\": f\"socks5://{proxy_server}\",\n",
    "            }\n",
    "            # Download image\n",
    "            # response = req.get(url, proxies=proxies)\n",
    "            response = req.get(url)\n",
    "            if response.status_code == 200:\n",
    "                try:\n",
    "                    # Save image\n",
    "                    with open(path_file, \"wb\") as file:\n",
    "                        file.write(response.content)\n",
    "                    rp(f\"[green bold]Downloaded: {post_id}.[/green bold]\")\n",
    "                except Exception as e:\n",
    "                    rp(f\"[red bold]Failed due to an error: {post_id}, {e}.[/red bold]\")\n",
    "            else:\n",
    "                rp(f\"[red bold]Failed: {post_id}.[/red bold]\")\n",
    "        else:\n",
    "            rp(f\"[yellow bold]Skipped: {post_id}.[/yellow bold]\")\n",
    "    except Exception as e:\n",
    "        rp(f\"[red bold]Failed due to an error: {post_id}, {e}.[/red bold]\")\n",
    "        pass\n",
    "\n",
    "\n",
    "download_image()"
   ]
  },
  {
   "cell_type": "code",
   "execution_count": 3,
   "metadata": {},
   "outputs": [
    {
     "data": {
      "application/vnd.jupyter.widget-view+json": {
       "model_id": "3d9679dc10fc4002b5e30f8c907148d6",
       "version_major": 2,
       "version_minor": 0
      },
      "text/plain": [
       "VBox(children=(HBox(children=(IntProgress(value=0, description='0.00%', max=5986), Label(value='0 / 5986'))), …"
      ]
     },
     "metadata": {},
     "output_type": "display_data"
    },
    {
     "data": {
      "text/html": [
       "<div>\n",
       "<style scoped>\n",
       "    .dataframe tbody tr th:only-of-type {\n",
       "        vertical-align: middle;\n",
       "    }\n",
       "\n",
       "    .dataframe tbody tr th {\n",
       "        vertical-align: top;\n",
       "    }\n",
       "\n",
       "    .dataframe thead th {\n",
       "        text-align: right;\n",
       "    }\n",
       "</style>\n",
       "<table border=\"1\" class=\"dataframe\">\n",
       "  <thead>\n",
       "    <tr style=\"text-align: right;\">\n",
       "      <th></th>\n",
       "      <th>URL</th>\n",
       "      <th>POST_ID</th>\n",
       "      <th>DOWNLOADED</th>\n",
       "    </tr>\n",
       "  </thead>\n",
       "  <tbody>\n",
       "    <tr>\n",
       "      <th>11</th>\n",
       "      <td>https://www.instagram.com/p/C9CL2rkNKOY/</td>\n",
       "      <td>C9CL2rkNKOY</td>\n",
       "      <td>False</td>\n",
       "    </tr>\n",
       "    <tr>\n",
       "      <th>12</th>\n",
       "      <td>https://www.instagram.com/p/C9CB9jYMZkT/</td>\n",
       "      <td>C9CB9jYMZkT</td>\n",
       "      <td>False</td>\n",
       "    </tr>\n",
       "    <tr>\n",
       "      <th>17</th>\n",
       "      <td>https://www.instagram.com/p/C9AtvoUtMOY/</td>\n",
       "      <td>C9AtvoUtMOY</td>\n",
       "      <td>False</td>\n",
       "    </tr>\n",
       "    <tr>\n",
       "      <th>116</th>\n",
       "      <td>https://www.instagram.com/p/C8ucKA0NvCS/</td>\n",
       "      <td>C8ucKA0NvCS</td>\n",
       "      <td>False</td>\n",
       "    </tr>\n",
       "    <tr>\n",
       "      <th>121</th>\n",
       "      <td>https://www.instagram.com/p/C8t6HX9sryx/</td>\n",
       "      <td>C8t6HX9sryx</td>\n",
       "      <td>False</td>\n",
       "    </tr>\n",
       "  </tbody>\n",
       "</table>\n",
       "</div>"
      ],
      "text/plain": [
       "                                          URL      POST_ID  DOWNLOADED\n",
       "11   https://www.instagram.com/p/C9CL2rkNKOY/  C9CL2rkNKOY       False\n",
       "12   https://www.instagram.com/p/C9CB9jYMZkT/  C9CB9jYMZkT       False\n",
       "17   https://www.instagram.com/p/C9AtvoUtMOY/  C9AtvoUtMOY       False\n",
       "116  https://www.instagram.com/p/C8ucKA0NvCS/  C8ucKA0NvCS       False\n",
       "121  https://www.instagram.com/p/C8t6HX9sryx/  C8t6HX9sryx       False"
      ]
     },
     "execution_count": 3,
     "metadata": {},
     "output_type": "execute_result"
    }
   ],
   "source": [
    "import re\n",
    "\n",
    "df = pd.concat(\n",
    "    [\n",
    "        pl.read_csv(\"../data/raw/consolidated_press.csv\", ignore_errors=True)\n",
    "        .select([\"URL\"])\n",
    "        .to_pandas(),\n",
    "        pl.read_csv(\"../data/raw/consolidated_users.csv\", ignore_errors=True)\n",
    "        .select([\"URL\"])\n",
    "        .to_pandas(),\n",
    "        pl.read_csv(\"../data/raw/non_self_disclosure_filtered.csv\", ignore_errors=True)\n",
    "        .select([\"URL\"])\n",
    "        .to_pandas(),\n",
    "    ]\n",
    ")\n",
    "pattern = r\"(p|tv)\\/([A-Z,a-z,0-9,_,-]+)\\/\"  # Starting with p or tv; followed by a string of characters, numbers, _, or -; ending with /\n",
    "\n",
    "\n",
    "images_downloaded = os.listdir(\"../data/images/\")\n",
    "images_downloaded = [i.split(\".\")[0] for i in images_downloaded]\n",
    "df[\"POST_ID\"] = df[\"URL\"].apply(\n",
    "    lambda x: re.findall(pattern, x)[0][1] if re.findall(pattern, x) else \"None\"\n",
    ")\n",
    "df[\"DOWNLOADED\"] = df[\"POST_ID\"].parallel_apply(\n",
    "    lambda x: True if x in images_downloaded else False\n",
    ")\n",
    "df = df[~df[\"DOWNLOADED\"]]\n",
    "# print(df[\"URL\"][0])\n",
    "df.head()"
   ]
  },
  {
   "cell_type": "code",
   "execution_count": 4,
   "metadata": {},
   "outputs": [],
   "source": [
    "df_sample = df[[\"POST_ID\"]]\n",
    "# df_sample[\"POST_ID\"].apply(download_image)\n",
    "# df_sample.parallel_apply(lambda x: download_image(x[\"POST_ID\"]), axis=1)"
   ]
  },
  {
   "cell_type": "code",
   "execution_count": 5,
   "metadata": {},
   "outputs": [
    {
     "data": {
      "text/plain": [
       "DOWNLOADED\n",
       "False    3015\n",
       "Name: count, dtype: int64"
      ]
     },
     "execution_count": 5,
     "metadata": {},
     "output_type": "execute_result"
    }
   ],
   "source": [
    "downloaded = set([x[:-4] for x in os.listdir(\"../data/images/\")])\n",
    "# check diff\n",
    "df[\"DOWNLOADED\"] = df[\"POST_ID\"].apply(lambda x: True if x in downloaded else False)\n",
    "df[\"DOWNLOADED\"].value_counts()"
   ]
  },
  {
   "cell_type": "code",
   "execution_count": 6,
   "metadata": {},
   "outputs": [
    {
     "data": {
      "application/vnd.jupyter.widget-view+json": {
       "model_id": "c3c60ec8f7ae48eabfccf9457911c330",
       "version_major": 2,
       "version_minor": 0
      },
      "text/plain": [
       "VBox(children=(HBox(children=(IntProgress(value=0, description='0.00%', max=95), Label(value='0 / 95'))), HBox…"
      ]
     },
     "metadata": {},
     "output_type": "display_data"
    },
    {
     "data": {
      "text/plain": [
       "11        None\n",
       "12        None\n",
       "17        None\n",
       "116       None\n",
       "121       None\n",
       "          ... \n",
       "163471    None\n",
       "163607    None\n",
       "163692    None\n",
       "163777    None\n",
       "163961    None\n",
       "Length: 3015, dtype: object"
      ]
     },
     "execution_count": 6,
     "metadata": {},
     "output_type": "execute_result"
    }
   ],
   "source": [
    "df[df[\"DOWNLOADED\"] == False].parallel_apply(\n",
    "    lambda x: download_image(x[\"POST_ID\"]), axis=1\n",
    ")"
   ]
  },
  {
   "cell_type": "code",
   "execution_count": 7,
   "metadata": {},
   "outputs": [
    {
     "data": {
      "text/html": [
       "<div>\n",
       "<style scoped>\n",
       "    .dataframe tbody tr th:only-of-type {\n",
       "        vertical-align: middle;\n",
       "    }\n",
       "\n",
       "    .dataframe tbody tr th {\n",
       "        vertical-align: top;\n",
       "    }\n",
       "\n",
       "    .dataframe thead th {\n",
       "        text-align: right;\n",
       "    }\n",
       "</style>\n",
       "<table border=\"1\" class=\"dataframe\">\n",
       "  <thead>\n",
       "    <tr style=\"text-align: right;\">\n",
       "      <th></th>\n",
       "      <th>URL</th>\n",
       "      <th>POST_ID</th>\n",
       "      <th>DOWNLOADED</th>\n",
       "    </tr>\n",
       "  </thead>\n",
       "  <tbody>\n",
       "    <tr>\n",
       "      <th>11</th>\n",
       "      <td>https://www.instagram.com/p/C9CL2rkNKOY/</td>\n",
       "      <td>C9CL2rkNKOY</td>\n",
       "      <td>False</td>\n",
       "    </tr>\n",
       "    <tr>\n",
       "      <th>12</th>\n",
       "      <td>https://www.instagram.com/p/C9CB9jYMZkT/</td>\n",
       "      <td>C9CB9jYMZkT</td>\n",
       "      <td>False</td>\n",
       "    </tr>\n",
       "    <tr>\n",
       "      <th>17</th>\n",
       "      <td>https://www.instagram.com/p/C9AtvoUtMOY/</td>\n",
       "      <td>C9AtvoUtMOY</td>\n",
       "      <td>False</td>\n",
       "    </tr>\n",
       "    <tr>\n",
       "      <th>116</th>\n",
       "      <td>https://www.instagram.com/p/C8ucKA0NvCS/</td>\n",
       "      <td>C8ucKA0NvCS</td>\n",
       "      <td>False</td>\n",
       "    </tr>\n",
       "    <tr>\n",
       "      <th>121</th>\n",
       "      <td>https://www.instagram.com/p/C8t6HX9sryx/</td>\n",
       "      <td>C8t6HX9sryx</td>\n",
       "      <td>False</td>\n",
       "    </tr>\n",
       "    <tr>\n",
       "      <th>...</th>\n",
       "      <td>...</td>\n",
       "      <td>...</td>\n",
       "      <td>...</td>\n",
       "    </tr>\n",
       "    <tr>\n",
       "      <th>163471</th>\n",
       "      <td>https://www.instagram.com/p/CvM5my6MQ2L/</td>\n",
       "      <td>CvM5my6MQ2L</td>\n",
       "      <td>False</td>\n",
       "    </tr>\n",
       "    <tr>\n",
       "      <th>163607</th>\n",
       "      <td>https://www.instagram.com/p/CvMxUw6svv_/</td>\n",
       "      <td>CvMxUw6svv_</td>\n",
       "      <td>False</td>\n",
       "    </tr>\n",
       "    <tr>\n",
       "      <th>163692</th>\n",
       "      <td>https://www.instagram.com/p/CvMos7Jr_uw/</td>\n",
       "      <td>CvMos7Jr_uw</td>\n",
       "      <td>False</td>\n",
       "    </tr>\n",
       "    <tr>\n",
       "      <th>163777</th>\n",
       "      <td>https://www.instagram.com/p/CvMgLhzuLgQ/</td>\n",
       "      <td>CvMgLhzuLgQ</td>\n",
       "      <td>False</td>\n",
       "    </tr>\n",
       "    <tr>\n",
       "      <th>163961</th>\n",
       "      <td>https://www.instagram.com/p/CvME-TcvF1c/</td>\n",
       "      <td>CvME-TcvF1c</td>\n",
       "      <td>False</td>\n",
       "    </tr>\n",
       "  </tbody>\n",
       "</table>\n",
       "<p>3015 rows × 3 columns</p>\n",
       "</div>"
      ],
      "text/plain": [
       "                                             URL      POST_ID  DOWNLOADED\n",
       "11      https://www.instagram.com/p/C9CL2rkNKOY/  C9CL2rkNKOY       False\n",
       "12      https://www.instagram.com/p/C9CB9jYMZkT/  C9CB9jYMZkT       False\n",
       "17      https://www.instagram.com/p/C9AtvoUtMOY/  C9AtvoUtMOY       False\n",
       "116     https://www.instagram.com/p/C8ucKA0NvCS/  C8ucKA0NvCS       False\n",
       "121     https://www.instagram.com/p/C8t6HX9sryx/  C8t6HX9sryx       False\n",
       "...                                          ...          ...         ...\n",
       "163471  https://www.instagram.com/p/CvM5my6MQ2L/  CvM5my6MQ2L       False\n",
       "163607  https://www.instagram.com/p/CvMxUw6svv_/  CvMxUw6svv_       False\n",
       "163692  https://www.instagram.com/p/CvMos7Jr_uw/  CvMos7Jr_uw       False\n",
       "163777  https://www.instagram.com/p/CvMgLhzuLgQ/  CvMgLhzuLgQ       False\n",
       "163961  https://www.instagram.com/p/CvME-TcvF1c/  CvME-TcvF1c       False\n",
       "\n",
       "[3015 rows x 3 columns]"
      ]
     },
     "execution_count": 7,
     "metadata": {},
     "output_type": "execute_result"
    }
   ],
   "source": [
    "df[df[\"DOWNLOADED\"] == False]"
   ]
  },
  {
   "cell_type": "code",
   "execution_count": null,
   "metadata": {},
   "outputs": [],
   "source": []
  }
 ],
 "metadata": {
  "kernelspec": {
   "display_name": "ins.img",
   "language": "python",
   "name": "python3"
  },
  "language_info": {
   "codemirror_mode": {
    "name": "ipython",
    "version": 3
   },
   "file_extension": ".py",
   "mimetype": "text/x-python",
   "name": "python",
   "nbconvert_exporter": "python",
   "pygments_lexer": "ipython3",
   "version": "3.11.9"
  }
 },
 "nbformat": 4,
 "nbformat_minor": 2
}
