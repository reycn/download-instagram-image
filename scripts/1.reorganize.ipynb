{
 "cells": [
  {
   "cell_type": "code",
   "execution_count": 1,
   "metadata": {},
   "outputs": [
    {
     "name": "stderr",
     "output_type": "stream",
     "text": [
      "/tmp/ipykernel_1170035/4207215560.py:15: DtypeWarning: Columns (17,19) have mixed types. Specify dtype option on import or set low_memory=False.\n",
      "  df = pd.read_csv(table_path + current_table + \".csv\")[[\"URL\"]]\n"
     ]
    }
   ],
   "source": [
    "import os\n",
    "import re\n",
    "\n",
    "import pandas as pd\n",
    "\n",
    "table_names = [\n",
    "    \"consolidated_press\",\n",
    "    \"consolidated_users\",\n",
    "    \"non_self_disclosure_filtered\",\n",
    "]\n",
    "table_path = \"../data/raw/\"\n",
    "\n",
    "# current_table = table_names[2]\n",
    "for current_table in table_names:\n",
    "    df = pd.read_csv(table_path + current_table + \".csv\")[[\"URL\"]]\n",
    "    # df = df.sample(100)\n",
    "    pattern = r\"(p|tv)\\/([A-Z,a-z,0-9,_,-]+)\\/\"  # Starting with p or tv; followed by a string of characters, numbers, _, or -; ending with /\n",
    "    df[\"id\"] = df[\"URL\"].apply(\n",
    "        lambda x: re.findall(pattern, x)[0][1] if re.findall(pattern, x) else \"None\"\n",
    "    )\n",
    "    df[\"file_name\"] = df[\"id\"] + \".jpg\"\n",
    "    df[\"file_path\"] = (\n",
    "        \"/home/rongxin/data/download-instagram-image/data/images/\" + df[\"file_name\"]\n",
    "    )\n",
    "    df[\"file_path\"] = df[\"file_path\"].apply(lambda x: x if os.path.exists(x) else \"\")\n",
    "\n",
    "    def copy_to_subfolder(row):\n",
    "        if row[\"file_path\"]:\n",
    "            if not os.path.exists(row[\"sub_path\"]):\n",
    "                os.system(f\"mkdir {row['sub_path']}\")\n",
    "            os.system(f\"cp {row['file_path']} {row['sub_path']}\")\n",
    "\n",
    "    df = df[df[\"file_path\"] != \"\"]\n",
    "    df[\"sub_path\"] = (\n",
    "        f\"/home/rongxin/data/download-instagram-image/data/images.organized/{current_table}/\"\n",
    "    )\n",
    "    for i in range(len(df)):\n",
    "        copy_to_subfolder(df.iloc[i])\n",
    "\n",
    "# df"
   ]
  },
  {
   "cell_type": "code",
   "execution_count": null,
   "metadata": {},
   "outputs": [],
   "source": []
  }
 ],
 "metadata": {
  "kernelspec": {
   "display_name": "ins.img",
   "language": "python",
   "name": "python3"
  },
  "language_info": {
   "codemirror_mode": {
    "name": "ipython",
    "version": 3
   },
   "file_extension": ".py",
   "mimetype": "text/x-python",
   "name": "python",
   "nbconvert_exporter": "python",
   "pygments_lexer": "ipython3",
   "version": "3.11.9"
  }
 },
 "nbformat": 4,
 "nbformat_minor": 2
}
