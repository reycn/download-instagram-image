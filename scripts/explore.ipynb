{
 "cells": [
  {
   "cell_type": "code",
   "execution_count": 11,
   "metadata": {},
   "outputs": [],
   "source": [
    "import pandas as pd\n",
    "import numpy as np\n",
    "import os\n",
    "import matplotlib.pyplot as plt\n",
    "import requests as req\n",
    "from rich import print as rp"
   ]
  },
  {
   "cell_type": "code",
   "execution_count": 12,
   "metadata": {},
   "outputs": [
    {
     "data": {
      "text/html": [
       "<pre style=\"white-space:pre;overflow-x:auto;line-height:normal;font-family:Menlo,'DejaVu Sans Mono',consolas,'Courier New',monospace\"><span style=\"color: #808000; text-decoration-color: #808000; font-weight: bold\">Skipped: CoGzQVFLqDB.</span>\n",
       "</pre>\n"
      ],
      "text/plain": [
       "\u001b[1;33mSkipped: CoGzQVFLqDB.\u001b[0m\n"
      ]
     },
     "metadata": {},
     "output_type": "display_data"
    }
   ],
   "source": [
    "post_id = \"CoGzQVFLqDB\"\n",
    "url = f\"https://www.instagram.com/p/{post_id}/media/?size=l\"\n",
    "path_download = \"../data/images/\"\n",
    "\n",
    "response = req.get(url)\n",
    "if response.status_code == 200:\n",
    "    # Download image\n",
    "    try:\n",
    "        # Create folder if not exist\n",
    "        if not os.path.exists(path_download):\n",
    "            os.makedirs(path_download)\n",
    "        # Skip if file exist\n",
    "        path_file = f\"{path_download}{post_id}.jpg\"\n",
    "        if not os.path.exists(path_file):\n",
    "            with open(path_file, \"wb\") as file:\n",
    "                file.write(response.content)\n",
    "            rp(f\"[green bold]Downloaded: {post_id}.[/green bold]\")\n",
    "        else:\n",
    "            rp(f\"[yellow bold]Skipped: {post_id}.[/yellow bold]\")\n",
    "    except Exception as e:\n",
    "        rp(f\"[red bold]Failed due to an error: {post_id}, {e}.[/red bold]\")\n",
    "else:\n",
    "    rp(f\"[red bold]Failed: {post_id}.[/red bold]\")"
   ]
  },
  {
   "cell_type": "code",
   "execution_count": null,
   "metadata": {},
   "outputs": [],
   "source": []
  }
 ],
 "metadata": {
  "kernelspec": {
   "display_name": "ins.img",
   "language": "python",
   "name": "python3"
  },
  "language_info": {
   "codemirror_mode": {
    "name": "ipython",
    "version": 3
   },
   "file_extension": ".py",
   "mimetype": "text/x-python",
   "name": "python",
   "nbconvert_exporter": "python",
   "pygments_lexer": "ipython3",
   "version": "3.11.9"
  }
 },
 "nbformat": 4,
 "nbformat_minor": 2
}
